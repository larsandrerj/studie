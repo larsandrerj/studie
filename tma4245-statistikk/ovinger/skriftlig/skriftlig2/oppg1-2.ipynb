{
 "cells": [
  {
   "cell_type": "code",
   "execution_count": 2,
   "metadata": {},
   "outputs": [],
   "source": [
    "#Importer nødvendige biblioteker, denne cellen må kjøres før annen kode.\n",
    "import numpy as np\n",
    "import matplotlib.pyplot as plt\n",
    "\n",
    "# UTLEVERT KODE (ingenting her skal endres)\n",
    "\n",
    "# punktsannsynlighet\n",
    "f_x = np.array([0.05,0.10,0.25,0.40,0.15,0.05])\n",
    "\n",
    "# kumulativ fordelingsfunksjon\n",
    "F_x = [np.sum(f_x[:i]) for i in range(1,7)]\n",
    "\n",
    "def simX(n):\n",
    "\n",
    "    # verdimengde\n",
    "    x = np.arange(6)\n",
    "\n",
    "    # for lagring av realisasjoner\n",
    "    x_sim = np.zeros(n)\n",
    "\n",
    "    for i in range(n): # vi simulerer hver og en x for seg\n",
    "\n",
    "        u = np.random.uniform() # en realisasjon fra U(0,1)\n",
    "\n",
    "        if(u < F_x[0]): # hvis u er mindre enn den laveste verdien i F_x vil vi at realisasjonen skal være 0\n",
    "            x_sim[i] = x[0]\n",
    "\n",
    "        elif(u <= F_x[1]): # hvis u er mindre enn den nest laveste verdien (men større enn laveste) vil vi at x skal bli 1\n",
    "            x_sim[i] = x[1]\n",
    "\n",
    "        elif(u <= F_x[2]):\n",
    "            x_sim[i] = x[2]\n",
    "\n",
    "        elif(u <= F_x[3]):\n",
    "            x_sim[i] = x[3]\n",
    "\n",
    "        elif(u <= F_x[4]):\n",
    "            x_sim[i] = x[4]\n",
    "\n",
    "        elif(u > F_x[4]):\n",
    "            x_sim[i] = x[5]\n",
    "\n",
    "    return x_sim\n"
   ]
  },
  {
   "cell_type": "code",
   "execution_count": 3,
   "metadata": {},
   "outputs": [
    {
     "name": "stdout",
     "output_type": "stream",
     "text": [
      "Approksimert sannsynlighet:  0.406\n"
     ]
    }
   ],
   "source": [
    "# Antall realisasjoner man skal bruke\n",
    "n = 1000\n",
    "# Simuler realisasjoner av X ved å kalle på simX-funksjonen i cellen over\n",
    "simulerte_X = simX(n)\n",
    "# Approksimer sannsynligheten\n",
    "count = 0\n",
    "for i in range(n):\n",
    "    if simulerte_X[i] == 0 or simulerte_X[i] == 1 or simulerte_X[i] == 2:\n",
    "        count += 1\n",
    "\n",
    "P_X_le_2 = count/n\n",
    "# Skriv ut resultatet\n",
    "print(\"Approksimert sannsynlighet: \",P_X_le_2)"
   ]
  },
  {
   "cell_type": "code",
   "execution_count": 9,
   "metadata": {},
   "outputs": [
    {
     "name": "stdout",
     "output_type": "stream",
     "text": [
      "E_X:  0.26405\n",
      "Var_x:  0.1374508912302863\n"
     ]
    }
   ],
   "source": [
    "def approx_P_X(x):\n",
    "    count = 0\n",
    "    for i in range(n):\n",
    "        if simulerte_X[i] == x:\n",
    "            count += 1\n",
    "\n",
    "    return count / n\n",
    "\n",
    "E_x = 0\n",
    "for i in range(len(f_x)):\n",
    "    E_x += approx_P_X(i) * f_x[i]\n",
    "\n",
    "print(\"E_X: \", E_x)\n",
    "\n",
    "Var_x = 0\n",
    "\n",
    "for i in range(len(f_x)):\n",
    "    Var_x += (approx_P_X(i) - E_x)**2 * f_x[i]\n",
    "\n",
    "SD_x = np.sqrt(Var_x)\n",
    "print(\"Var_x: \", SD_x)\n"
   ]
  }
 ],
 "metadata": {
  "kernelspec": {
   "display_name": "Python 3",
   "language": "python",
   "name": "python3"
  },
  "language_info": {
   "codemirror_mode": {
    "name": "ipython",
    "version": 3
   },
   "file_extension": ".py",
   "mimetype": "text/x-python",
   "name": "python",
   "nbconvert_exporter": "python",
   "pygments_lexer": "ipython3",
   "version": "3.13.1"
  }
 },
 "nbformat": 4,
 "nbformat_minor": 2
}
