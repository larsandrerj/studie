{
 "cells": [
  {
   "cell_type": "code",
   "execution_count": 6,
   "metadata": {},
   "outputs": [
    {
     "ename": "AttributeError",
     "evalue": "module 'matplotlib' has no attribute 'hist'",
     "output_type": "error",
     "traceback": [
      "\u001b[0;31m---------------------------------------------------------------------------\u001b[0m",
      "\u001b[0;31mAttributeError\u001b[0m                            Traceback (most recent call last)",
      "Cell \u001b[0;32mIn[6], line 26\u001b[0m\n\u001b[1;32m     18\u001b[0m simulerte_X \u001b[38;5;241m=\u001b[39m generateX(n, alpha)\n\u001b[1;32m     24\u001b[0m \u001b[38;5;66;03m# Lag sannsynlighetshistogram for de simulerte verdiene,\u001b[39;00m\n\u001b[1;32m     25\u001b[0m \u001b[38;5;66;03m# vi spesifiserer antall intervaller ved å sette \"bins=100\"\u001b[39;00m\n\u001b[0;32m---> 26\u001b[0m \u001b[43mplt\u001b[49m\u001b[38;5;241;43m.\u001b[39;49m\u001b[43mhist\u001b[49m(simulerte_X, density\u001b[38;5;241m=\u001b[39m\u001b[38;5;28;01mTrue\u001b[39;00m,bins\u001b[38;5;241m=\u001b[39m\u001b[38;5;241m100\u001b[39m) \u001b[38;5;66;03m#density=True\u001b[39;00m\n\u001b[1;32m     27\u001b[0m \u001b[38;5;66;03m#gjør at vi får et sannsynlighetshistogram\u001b[39;00m\n\u001b[1;32m     28\u001b[0m \u001b[38;5;66;03m# Angi navn på aksene\u001b[39;00m\n\u001b[1;32m     29\u001b[0m \u001b[38;5;66;03m# Regn ut og plott sannsynlighetstettheten til X på samme plott\u001b[39;00m\n\u001b[1;32m     30\u001b[0m \u001b[38;5;66;03m# Avslutt med å generere alle elementene du har plottet\u001b[39;00m\n\u001b[1;32m     31\u001b[0m plt\u001b[38;5;241m.\u001b[39mshow()\n",
      "File \u001b[0;32m/usr/lib/python3.13/site-packages/matplotlib/_api/__init__.py:218\u001b[0m, in \u001b[0;36mcaching_module_getattr.<locals>.__getattr__\u001b[0;34m(name)\u001b[0m\n\u001b[1;32m    216\u001b[0m \u001b[38;5;28;01mif\u001b[39;00m name \u001b[38;5;129;01min\u001b[39;00m props:\n\u001b[1;32m    217\u001b[0m     \u001b[38;5;28;01mreturn\u001b[39;00m props[name]\u001b[38;5;241m.\u001b[39m\u001b[38;5;21m__get__\u001b[39m(instance)\n\u001b[0;32m--> 218\u001b[0m \u001b[38;5;28;01mraise\u001b[39;00m \u001b[38;5;167;01mAttributeError\u001b[39;00m(\n\u001b[1;32m    219\u001b[0m     \u001b[38;5;124mf\u001b[39m\u001b[38;5;124m\"\u001b[39m\u001b[38;5;124mmodule \u001b[39m\u001b[38;5;132;01m{\u001b[39;00m\u001b[38;5;28mcls\u001b[39m\u001b[38;5;241m.\u001b[39m\u001b[38;5;18m__module__\u001b[39m\u001b[38;5;132;01m!r}\u001b[39;00m\u001b[38;5;124m has no attribute \u001b[39m\u001b[38;5;132;01m{\u001b[39;00mname\u001b[38;5;132;01m!r}\u001b[39;00m\u001b[38;5;124m\"\u001b[39m)\n",
      "\u001b[0;31mAttributeError\u001b[0m: module 'matplotlib' has no attribute 'hist'"
     ]
    }
   ],
   "source": [
    "import numpy as np\n",
    "import matplotlib as plt\n",
    "def generateX(n,alpha):\n",
    "    u = np.random.uniform(size=n) #array med n elementer.\n",
    "    x = np.zeros(n)\n",
    "    #x = 1 / (1 - np.exp(-(u**2) / alpha))\n",
    "    for i in range(n):\n",
    "        x[i] = 1 / (1 - np.exp(-(u[i]**2) / alpha))\n",
    "    # fyll inn formelen du fant for x\n",
    "    return x\n",
    "\n",
    "\n",
    "# Sett antall realisasjoner og verdien til alpha\n",
    "n = 10000000\n",
    "alpha = 1\n",
    "\n",
    "# simuler realisasjoner av X\n",
    "simulerte_X = generateX(n, alpha)\n",
    "\n",
    "\n",
    "\n",
    "\n",
    "\n",
    "# Lag sannsynlighetshistogram for de simulerte verdiene,\n",
    "# vi spesifiserer antall intervaller ved å sette \"bins=100\"\n",
    "plt.hist(simulerte_X, density=True,bins=100) #density=True\n",
    "#gjør at vi får et sannsynlighetshistogram\n",
    "# Angi navn på aksene\n",
    "# Regn ut og plott sannsynlighetstettheten til X på samme plott\n",
    "# Avslutt med å generere alle elementene du har plottet\n",
    "plt.show()"
   ]
  }
 ],
 "metadata": {
  "kernelspec": {
   "display_name": "Python 3",
   "language": "python",
   "name": "python3"
  },
  "language_info": {
   "codemirror_mode": {
    "name": "ipython",
    "version": 3
   },
   "file_extension": ".py",
   "mimetype": "text/x-python",
   "name": "python",
   "nbconvert_exporter": "python",
   "pygments_lexer": "ipython3",
   "version": "3.13.1"
  }
 },
 "nbformat": 4,
 "nbformat_minor": 2
}
